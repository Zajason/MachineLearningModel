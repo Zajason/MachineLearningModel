{
 "cells": [
  {
   "cell_type": "code",
   "execution_count": null,
   "id": "99fac54b-b15d-4206-96b8-51d705a90a98",
   "metadata": {
    "tags": []
   },
   "outputs": [
    {
     "name": "stderr",
     "output_type": "stream",
     "text": [
      "F:\\anaconda\\envs\\emb\\lib\\site-packages\\keras\\optimizers\\optimizer_v2\\adam.py:114: UserWarning: The `lr` argument is deprecated, use `learning_rate` instead.\n",
      "  super().__init__(name, **kwargs)\n"
     ]
    },
    {
     "name": "stdout",
     "output_type": "stream",
     "text": [
      "Found 15597 images belonging to 23 classes.\n",
      "Found 4003 images belonging to 23 classes.\n",
      "Epoch 1/50\n",
      " 81/122 [==================>...........] - ETA: 34s - loss: 2.7811 - accuracy: 0.2235"
     ]
    }
   ],
   "source": [
    "from tensorflow.keras.layers import Input, Lambda, Dense, Flatten , GlobalAveragePooling2D , Dropout\n",
    "from tensorflow.keras.models import Model\n",
    "from tensorflow.keras.callbacks import EarlyStopping\n",
    "from tensorflow.keras.optimizers import Adam\n",
    "from tensorflow.keras.applications.resnet50 import ResNet50, preprocess_input\n",
    "from tensorflow.keras.preprocessing import image\n",
    "from tensorflow.keras.preprocessing.image import ImageDataGenerator, load_img\n",
    "from tensorflow.keras.models import Sequential\n",
    "\n",
    "import numpy as np\n",
    "from glob import glob\n",
    "import matplotlib.pyplot as plt\n",
    "\n",
    "# Set paths and image size\n",
    "train_path = r'C:\\\\Users\\\\zakja\\\\datasets\\\\skin diseases\\\\train'\n",
    "test_path = r'C:\\\\Users\\\\zakja\\\\datasets\\\\skin diseases\\\\test'\n",
    "IMAGE_SIZE = [224, 224]\n",
    "folders = glob(r'C:\\\\Users\\\\zakja\\\\datasets\\\\skin diseases\\\\test\\\\*')\n",
    "# Load pre-trained ResNet50 model\n",
    "resnet = ResNet50(include_top=False, weights='imagenet', input_shape=IMAGE_SIZE+[3])\n",
    "\n",
    "# Freeze layers in pre-trained model\n",
    "for layer in resnet.layers:\n",
    "    layer.trainable = False\n",
    "\n",
    "# Add new layers to the pre-trained model\n",
    "x = GlobalAveragePooling2D()(resnet.output)\n",
    "x = Dense(1024, activation='relu')(x)\n",
    "x = Dropout(0.5)(x)  # Add dropout for regularization\n",
    "prediction = Dense(len(folders), activation='softmax')(x)\n",
    "model = Model(inputs=resnet.input, outputs=prediction)\n",
    "\n",
    "# Compile the model\n",
    "optimizer = Adam(lr=0.001)  # Adjust learning rate if necessary\n",
    "model.compile(loss='categorical_crossentropy', optimizer=optimizer, metrics=['accuracy'])\n",
    "\n",
    "# Define data generators for training and testing with data augmentation\n",
    "train_datagen = ImageDataGenerator(\n",
    "    preprocessing_function=preprocess_input,\n",
    "    rotation_range=20,\n",
    "    width_shift_range=0.1,\n",
    "    height_shift_range=0.1,\n",
    "    zoom_range=0.1,\n",
    "    horizontal_flip=True,\n",
    "    vertical_flip=True\n",
    ")\n",
    "test_datagen = ImageDataGenerator(preprocessing_function=preprocess_input)\n",
    "\n",
    "training_set = train_datagen.flow_from_directory(\n",
    "    train_path, target_size=IMAGE_SIZE, batch_size=128, class_mode='categorical'\n",
    ")\n",
    "test_set = test_datagen.flow_from_directory(\n",
    "    test_path, target_size=IMAGE_SIZE, batch_size=128, class_mode='categorical'\n",
    ")\n",
    "\n",
    "# Apply early stopping\n",
    "early_stopping = EarlyStopping(monitor='val_loss', patience=5, restore_best_weights=True)\n",
    "\n",
    "# Train the model\n",
    "history = model.fit(\n",
    "    training_set,\n",
    "    validation_data=test_set,\n",
    "    epochs=50,\n",
    "    steps_per_epoch=len(training_set),\n",
    "    validation_steps=len(test_set),\n",
    "    callbacks=[early_stopping]\n",
    ")"
   ]
  },
  {
   "cell_type": "code",
   "execution_count": null,
   "id": "0692034c-bdcc-4593-8747-14bf953c71de",
   "metadata": {},
   "outputs": [],
   "source": []
  }
 ],
 "metadata": {
  "kernelspec": {
   "display_name": "Python 3.9 (emb)",
   "language": "python",
   "name": "emb"
  },
  "language_info": {
   "codemirror_mode": {
    "name": "ipython",
    "version": 3
   },
   "file_extension": ".py",
   "mimetype": "text/x-python",
   "name": "python",
   "nbconvert_exporter": "python",
   "pygments_lexer": "ipython3",
   "version": "3.9.16"
  }
 },
 "nbformat": 4,
 "nbformat_minor": 5
}
